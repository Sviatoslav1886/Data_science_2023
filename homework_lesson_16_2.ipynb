{
 "cells": [
  {
   "cell_type": "markdown",
   "metadata": {},
   "source": [
    "# Hometask \n",
    "\n",
    "Mine top 10 association rules worth recommending for \n",
    "[Groceries dataset](https://www.kaggle.com/heeraldedhia/groceries-dataset)"
   ]
  },
  {
   "cell_type": "code",
   "execution_count": 13,
   "metadata": {},
   "outputs": [
    {
     "data": {
      "text/html": [
       "<div>\n",
       "<style scoped>\n",
       "    .dataframe tbody tr th:only-of-type {\n",
       "        vertical-align: middle;\n",
       "    }\n",
       "\n",
       "    .dataframe tbody tr th {\n",
       "        vertical-align: top;\n",
       "    }\n",
       "\n",
       "    .dataframe thead th {\n",
       "        text-align: right;\n",
       "    }\n",
       "</style>\n",
       "<table border=\"1\" class=\"dataframe\">\n",
       "  <thead>\n",
       "    <tr style=\"text-align: right;\">\n",
       "      <th></th>\n",
       "      <th>Member_number</th>\n",
       "      <th>Date</th>\n",
       "      <th>itemDescription</th>\n",
       "    </tr>\n",
       "  </thead>\n",
       "  <tbody>\n",
       "    <tr>\n",
       "      <th>0</th>\n",
       "      <td>1808</td>\n",
       "      <td>21-07-2015</td>\n",
       "      <td>tropical fruit</td>\n",
       "    </tr>\n",
       "    <tr>\n",
       "      <th>1</th>\n",
       "      <td>2552</td>\n",
       "      <td>05-01-2015</td>\n",
       "      <td>whole milk</td>\n",
       "    </tr>\n",
       "    <tr>\n",
       "      <th>2</th>\n",
       "      <td>2300</td>\n",
       "      <td>19-09-2015</td>\n",
       "      <td>pip fruit</td>\n",
       "    </tr>\n",
       "    <tr>\n",
       "      <th>3</th>\n",
       "      <td>1187</td>\n",
       "      <td>12-12-2015</td>\n",
       "      <td>other vegetables</td>\n",
       "    </tr>\n",
       "    <tr>\n",
       "      <th>4</th>\n",
       "      <td>3037</td>\n",
       "      <td>01-02-2015</td>\n",
       "      <td>whole milk</td>\n",
       "    </tr>\n",
       "  </tbody>\n",
       "</table>\n",
       "</div>"
      ],
      "text/plain": [
       "   Member_number        Date   itemDescription\n",
       "0           1808  21-07-2015    tropical fruit\n",
       "1           2552  05-01-2015        whole milk\n",
       "2           2300  19-09-2015         pip fruit\n",
       "3           1187  12-12-2015  other vegetables\n",
       "4           3037  01-02-2015        whole milk"
      ]
     },
     "execution_count": 13,
     "metadata": {},
     "output_type": "execute_result"
    }
   ],
   "source": [
    "import numpy as np\n",
    "import matplotlib.pyplot as plt\n",
    "import pandas as pd\n",
    "from apyori import apriori\n",
    "\n",
    "df = pd.read_csv('Groceries_dataset.csv')\n",
    "df.head ()"
   ]
  },
  {
   "cell_type": "code",
   "execution_count": 14,
   "metadata": {},
   "outputs": [
    {
     "data": {
      "text/plain": [
       "38765"
      ]
     },
     "execution_count": 14,
     "metadata": {},
     "output_type": "execute_result"
    }
   ],
   "source": [
    "len(df)"
   ]
  },
  {
   "cell_type": "code",
   "execution_count": 15,
   "metadata": {},
   "outputs": [
    {
     "data": {
      "image/png": "[encoded data removed]",
      "text/plain": [
       "<Figure size 640x480 with 1 Axes>"
      ]
     },
     "metadata": {},
     "output_type": "display_data"
    }
   ],
   "source": [
    "dist = [len(g) for k, g in df.groupby(['Member_number', 'Date'])]\n",
    "plt.hist(dist, bins=30, edgecolor='black')\n",
    "plt.xlabel('Transaction Length')\n",
    "plt.ylabel('Frequency')\n",
    "plt.title('Distribution of Transaction Lengths')\n",
    "plt.show()"
   ]
  },
  {
   "cell_type": "code",
   "execution_count": 16,
   "metadata": {},
   "outputs": [],
   "source": [
    "transactions = df.groupby('Member_number')['itemDescription'].apply(list).tolist()"
   ]
  },
  {
   "cell_type": "code",
   "execution_count": 17,
   "metadata": {},
   "outputs": [],
   "source": [
    "results = list(apriori(transactions, min_support=0.005, min_confidence=0.2, min_lift=1.0))"
   ]
  },
  {
   "cell_type": "code",
   "execution_count": 18,
   "metadata": {},
   "outputs": [
    {
     "name": "stdout",
     "output_type": "stream",
     "text": [
      "Rule 1:\n",
      "Items: ['whole milk', 'bottled water', 'butter', 'chicken']\n",
      "Support: 0.00513083632632119\n",
      "Confidence: 0.20618556701030927\n",
      "Lift: 3.115160233357308\n",
      "==============================\n",
      "Rule 2:\n",
      "Items: ['whole milk', 'canned beer', 'brown bread', 'curd']\n",
      "Support: 0.00538737814263725\n",
      "Confidence: 0.2692307692307692\n",
      "Lift: 3.086651583710407\n",
      "==============================\n",
      "Rule 3:\n",
      "Items: ['frankfurter', 'bottled water', 'brown bread', 'soda']\n",
      "Support: 0.00513083632632119\n",
      "Confidence: 0.22988505747126436\n",
      "Lift: 3.017144626340029\n",
      "==============================\n",
      "Rule 4:\n",
      "Items: ['rolls/buns', 'bottled water', 'soda', 'yogurt', 'sausage']\n",
      "Support: 0.005643919958953309\n",
      "Confidence: 0.2894736842105263\n",
      "Lift: 2.9693905817174517\n",
      "==============================\n",
      "Rule 5:\n",
      "Items: ['shopping bags', 'soda', 'tropical fruit', 'pork']\n",
      "Support: 0.0061570035915854285\n",
      "Confidence: 0.2376237623762376\n",
      "Lift: 2.903628293863869\n",
      "==============================\n",
      "Rule 6:\n",
      "Items: ['pip fruit', 'other vegetables', 'bottled water', 'pork']\n",
      "Support: 0.005900461775269369\n",
      "Confidence: 0.2090909090909091\n",
      "Lift: 2.890199871050935\n",
      "==============================\n",
      "Rule 7:\n",
      "Items: ['beef', 'yogurt', 'soda', 'pork']\n",
      "Support: 0.00513083632632119\n",
      "Confidence: 0.28169014084507044\n",
      "Lift: 2.8895478131949592\n",
      "==============================\n",
      "Rule 8:\n",
      "Items: ['root vegetables', 'coffee', 'frankfurter', 'rolls/buns']\n",
      "Support: 0.00513083632632119\n",
      "Confidence: 0.2564102564102564\n",
      "Lift: 2.8234101115457046\n",
      "==============================\n",
      "Rule 9:\n",
      "Items: ['rolls/buns', 'white bread', 'beverages']\n",
      "Support: 0.005900461775269369\n",
      "Confidence: 0.25\n",
      "Lift: 2.816473988439306\n",
      "==============================\n",
      "Rule 10:\n",
      "Items: ['whole milk', 'shopping bags', 'brown bread', 'curd']\n",
      "Support: 0.00513083632632119\n",
      "Confidence: 0.2564102564102564\n",
      "Lift: 2.807548256986459\n",
      "==============================\n"
     ]
    }
   ],
   "source": [
    "top_10_rules = sorted(results, key=lambda x: x.ordered_statistics[0].lift, reverse=True)[:10]\n",
    "\n",
    "for idx, rule in enumerate(top_10_rules, start=1):\n",
    "    print(f\"Rule {idx}:\")\n",
    "    print(\"Items:\", list(rule.items))\n",
    "    print(\"Support:\", rule.support)\n",
    "    print(\"Confidence:\", rule.ordered_statistics[0].confidence)\n",
    "    print(\"Lift:\", rule.ordered_statistics[0].lift)\n",
    "    print(\"=\"*30)"
   ]
  }
 ],
 "metadata": {
  "kernelspec": {
   "display_name": "Python 3",
   "language": "python",
   "name": "python3"
  },
  "language_info": {
   "codemirror_mode": {
    "name": "ipython",
    "version": 3
   },
   "file_extension": ".py",
   "mimetype": "text/x-python",
   "name": "python",
   "nbconvert_exporter": "python",
   "pygments_lexer": "ipython3",
   "version": "3.11.6"
  }
 },
 "nbformat": 4,
 "nbformat_minor": 2
}
